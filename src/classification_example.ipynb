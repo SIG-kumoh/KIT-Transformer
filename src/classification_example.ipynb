{
 "cells": [
  {
   "cell_type": "code",
   "execution_count": 1,
   "id": "initial_id",
   "metadata": {
    "collapsed": true,
    "ExecuteTime": {
     "end_time": "2024-02-20T09:08:57.019237600Z",
     "start_time": "2024-02-20T09:08:48.469238Z"
    }
   },
   "outputs": [
    {
     "name": "stdout",
     "output_type": "stream",
     "text": [
      "WARNING:tensorflow:From C:\\Users\\wintee\\PycharmProjects\\KIT-Transformer\\.venv\\lib\\site-packages\\keras\\src\\losses.py:2976: The name tf.losses.sparse_softmax_cross_entropy is deprecated. Please use tf.compat.v1.losses.sparse_softmax_cross_entropy instead.\n"
     ]
    }
   ],
   "source": [
    "import tensorflow as tf"
   ]
  },
  {
   "cell_type": "code",
   "execution_count": 2,
   "outputs": [
    {
     "name": "stdout",
     "output_type": "stream",
     "text": [
      "Downloading data from https://storage.googleapis.com/tensorflow/tf-keras-datasets/imdb.npz\n",
      "17464789/17464789 [==============================] - 2s 0us/step\n",
      "학습 리뷰 개수 : 25000\n",
      "검증 리뷰 개수 : 25000\n"
     ]
    }
   ],
   "source": [
    "vocab_size = 20000\n",
    "max_len = 200\n",
    "\n",
    "(x_train, y_train), (x_test, y_test) = tf.keras.datasets.imdb.load_data(num_words=vocab_size)\n",
    "print(f'학습 리뷰 개수 : {len(x_train)}')\n",
    "print(f'검증 리뷰 개수 : {len(x_test)}')"
   ],
   "metadata": {
    "collapsed": false,
    "ExecuteTime": {
     "end_time": "2024-02-20T09:09:03.018237600Z",
     "start_time": "2024-02-20T09:08:58.555237900Z"
    }
   },
   "id": "b7862e969cf59217"
  },
  {
   "cell_type": "code",
   "execution_count": 3,
   "outputs": [],
   "source": [
    "x_train = tf.keras.preprocessing.sequence.pad_sequences(x_train, maxlen=max_len)\n",
    "x_test = tf.keras.preprocessing.sequence.pad_sequences(x_test, maxlen=max_len)"
   ],
   "metadata": {
    "collapsed": false,
    "ExecuteTime": {
     "end_time": "2024-02-20T09:09:04.422237Z",
     "start_time": "2024-02-20T09:09:03.931237700Z"
    }
   },
   "id": "c746799d3e1df80a"
  },
  {
   "cell_type": "code",
   "execution_count": 4,
   "outputs": [],
   "source": [
    "from tensorflow.keras.models import Sequential\n",
    "from tensorflow.keras.layers import Dense, SimpleRNN, Embedding"
   ],
   "metadata": {
    "collapsed": false,
    "ExecuteTime": {
     "end_time": "2024-02-20T09:09:06.220238700Z",
     "start_time": "2024-02-20T09:09:06.208237100Z"
    }
   },
   "id": "c6ad1fbae34f2dea"
  },
  {
   "cell_type": "code",
   "execution_count": 5,
   "outputs": [
    {
     "name": "stdout",
     "output_type": "stream",
     "text": [
      "WARNING:tensorflow:From C:\\Users\\wintee\\PycharmProjects\\KIT-Transformer\\.venv\\lib\\site-packages\\keras\\src\\backend.py:873: The name tf.get_default_graph is deprecated. Please use tf.compat.v1.get_default_graph instead.\n",
      "WARNING:tensorflow:From C:\\Users\\wintee\\PycharmProjects\\KIT-Transformer\\.venv\\lib\\site-packages\\keras\\src\\optimizers\\__init__.py:309: The name tf.train.Optimizer is deprecated. Please use tf.compat.v1.train.Optimizer instead.\n"
     ]
    }
   ],
   "source": [
    "embedding_dim = 32\n",
    "hidden_units = 32\n",
    "\n",
    "rnn_model = Sequential()\n",
    "rnn_model.add(Embedding(vocab_size, embedding_dim))\n",
    "rnn_model.add(SimpleRNN(hidden_units))\n",
    "rnn_model.add(Dense(1, activation='sigmoid'))\n",
    "\n",
    "rnn_model.compile(optimizer='rmsprop', loss='binary_crossentropy', metrics=['acc'])"
   ],
   "metadata": {
    "collapsed": false,
    "ExecuteTime": {
     "end_time": "2024-02-20T09:09:07.624237900Z",
     "start_time": "2024-02-20T09:09:07.106237900Z"
    }
   },
   "id": "9a86c505417e938e"
  },
  {
   "cell_type": "code",
   "execution_count": 6,
   "outputs": [
    {
     "name": "stdout",
     "output_type": "stream",
     "text": [
      "Epoch 1/5\n",
      "WARNING:tensorflow:From C:\\Users\\wintee\\PycharmProjects\\KIT-Transformer\\.venv\\lib\\site-packages\\keras\\src\\utils\\tf_utils.py:492: The name tf.ragged.RaggedTensorValue is deprecated. Please use tf.compat.v1.ragged.RaggedTensorValue instead.\n",
      "WARNING:tensorflow:From C:\\Users\\wintee\\PycharmProjects\\KIT-Transformer\\.venv\\lib\\site-packages\\keras\\src\\engine\\base_layer_utils.py:384: The name tf.executing_eagerly_outside_functions is deprecated. Please use tf.compat.v1.executing_eagerly_outside_functions instead.\n",
      "313/313 [==============================] - 6s 16ms/step - loss: 0.5442 - acc: 0.7147 - val_loss: 0.4367 - val_acc: 0.8044\n",
      "Epoch 2/5\n",
      "313/313 [==============================] - 5s 16ms/step - loss: 0.3442 - acc: 0.8580 - val_loss: 0.3365 - val_acc: 0.8550\n",
      "Epoch 3/5\n",
      "313/313 [==============================] - 5s 16ms/step - loss: 0.2676 - acc: 0.8968 - val_loss: 0.4016 - val_acc: 0.8258\n",
      "Epoch 4/5\n",
      "313/313 [==============================] - 5s 16ms/step - loss: 0.2080 - acc: 0.9196 - val_loss: 0.5650 - val_acc: 0.7440\n",
      "Epoch 5/5\n",
      "313/313 [==============================] - 5s 16ms/step - loss: 0.1549 - acc: 0.9439 - val_loss: 0.4691 - val_acc: 0.8426\n"
     ]
    }
   ],
   "source": [
    "rnn_history = rnn_model.fit(x_train, y_train, epochs=5, batch_size=64, validation_split=0.2)"
   ],
   "metadata": {
    "collapsed": false,
    "ExecuteTime": {
     "end_time": "2024-02-20T09:09:36.121237400Z",
     "start_time": "2024-02-20T09:09:09.665237200Z"
    }
   },
   "id": "32cd8494192c274a"
  },
  {
   "cell_type": "code",
   "execution_count": 9,
   "outputs": [
    {
     "name": "stdout",
     "output_type": "stream",
     "text": [
      "782/782 [==============================] - 2s 3ms/step - loss: 0.5022 - acc: 0.8312\n"
     ]
    },
    {
     "data": {
      "text/plain": "[0.5022233128547668, 0.8311600089073181]"
     },
     "execution_count": 9,
     "metadata": {},
     "output_type": "execute_result"
    }
   ],
   "source": [
    "rnn_model.evaluate(x_test, y_test)"
   ],
   "metadata": {
    "collapsed": false,
    "ExecuteTime": {
     "end_time": "2024-02-20T09:09:59.641237600Z",
     "start_time": "2024-02-20T09:09:57.333236800Z"
    }
   },
   "id": "fb83312be11b0538"
  },
  {
   "cell_type": "code",
   "execution_count": 41,
   "outputs": [],
   "source": [
    "from tensorflow.keras.layers import Dropout, GlobalAveragePooling1D\n",
    "from modules.encoder import Encoder\n",
    "from modules.embedding import embedding\n",
    "from modules.positional_encoder import positional_encoding"
   ],
   "metadata": {
    "collapsed": false,
    "ExecuteTime": {
     "end_time": "2024-02-20T09:23:26.538904500Z",
     "start_time": "2024-02-20T09:23:26.523903600Z"
    }
   },
   "id": "68ffcdb9d7165174"
  },
  {
   "cell_type": "code",
   "outputs": [],
   "source": [
    "class Classifier(tf.keras.Model):\n",
    "    def __init__(self, d_model, num_heads, dropout, d_ff):\n",
    "        super(Classifier, self).__init__()\n",
    "        self.d_model = d_model\n",
    "        self.num_heads = num_heads\n",
    "        self.dropout = dropout\n",
    "        self.d_ff = d_ff\n",
    "        \n",
    "        self.transformer_encoder = Encoder(d_model=d_model, num_heads=num_heads, dropout=dropout, d_ff=d_ff)\n",
    "        self.embedding_layer = Embedding(vocab_size, d_model)\n",
    "        self.dropout_layer = Dropout(dropout)\n",
    "        self.pooling_layer = GlobalAveragePooling1D()\n",
    "        self.output_layer = Dense(1, activation='sigmoid')\n",
    "    \n",
    "    def call(self, inputs):\n",
    "        embedding_vector = embedding(embedding_layer=self.embedding_layer,\n",
    "                                     inputs=inputs,\n",
    "                                     d_model=self.d_model)\n",
    "        embedding_vector = positional_encoding(dropout_layer=self.dropout_layer,\n",
    "                                               inputs=embedding_vector,\n",
    "                                               position=max_len,\n",
    "                                               d_model=self.d_model)\n",
    "        encoded_vector = self.transformer_encoder.encode(inputs=embedding_vector)\n",
    "        encoded_vector = self.pooling_layer(encoded_vector)\n",
    "        return self.output_layer(encoded_vector)"
   ],
   "metadata": {
    "collapsed": false,
    "ExecuteTime": {
     "end_time": "2024-02-20T09:31:27.820565300Z",
     "start_time": "2024-02-20T09:31:27.808567400Z"
    }
   },
   "id": "53174690cac0840e",
   "execution_count": 76
  },
  {
   "cell_type": "code",
   "outputs": [],
   "source": [
    "transformer_model = Classifier(d_model=embedding_dim, num_heads=2, dropout=0.1, d_ff=hidden_units)\n",
    "transformer_model.compile(optimizer='rmsprop', loss='binary_crossentropy', metrics=['acc'])"
   ],
   "metadata": {
    "collapsed": false,
    "ExecuteTime": {
     "end_time": "2024-02-20T09:31:28.179566800Z",
     "start_time": "2024-02-20T09:31:28.158567400Z"
    }
   },
   "id": "30a21ca254c25c92",
   "execution_count": 77
  },
  {
   "cell_type": "code",
   "outputs": [
    {
     "name": "stdout",
     "output_type": "stream",
     "text": [
      "Epoch 1/5\n",
      "313/313 [==============================] - 17s 41ms/step - loss: 0.5744 - acc: 0.7345 - val_loss: 0.4199 - val_acc: 0.8262\n",
      "Epoch 2/5\n",
      "313/313 [==============================] - 11s 36ms/step - loss: 0.3603 - acc: 0.8499 - val_loss: 0.3288 - val_acc: 0.8586\n",
      "Epoch 3/5\n",
      "313/313 [==============================] - 12s 37ms/step - loss: 0.2883 - acc: 0.8805 - val_loss: 0.3077 - val_acc: 0.8722\n",
      "Epoch 4/5\n",
      "313/313 [==============================] - 11s 36ms/step - loss: 0.2525 - acc: 0.8963 - val_loss: 0.2955 - val_acc: 0.8788\n",
      "Epoch 5/5\n",
      "313/313 [==============================] - 11s 35ms/step - loss: 0.2235 - acc: 0.9132 - val_loss: 0.2913 - val_acc: 0.8846\n"
     ]
    }
   ],
   "source": [
    "transformer_history = transformer_model.fit(x_train, y_train, epochs=5, batch_size=64, validation_split=0.2)"
   ],
   "metadata": {
    "collapsed": false,
    "ExecuteTime": {
     "end_time": "2024-02-20T09:32:30.904452Z",
     "start_time": "2024-02-20T09:31:28.497566400Z"
    }
   },
   "id": "e0b97d46876af0e6",
   "execution_count": 78
  },
  {
   "cell_type": "code",
   "outputs": [
    {
     "name": "stdout",
     "output_type": "stream",
     "text": [
      "782/782 [==============================] - 3s 4ms/step - loss: 0.2922 - acc: 0.8769\n"
     ]
    },
    {
     "data": {
      "text/plain": "[0.2921871244907379, 0.8769199848175049]"
     },
     "execution_count": 79,
     "metadata": {},
     "output_type": "execute_result"
    }
   ],
   "source": [
    "transformer_model.evaluate(x_test, y_test)"
   ],
   "metadata": {
    "collapsed": false,
    "ExecuteTime": {
     "end_time": "2024-02-20T09:32:35.914452800Z",
     "start_time": "2024-02-20T09:32:32.801452900Z"
    }
   },
   "id": "41ac02c62cc9ebb",
   "execution_count": 79
  },
  {
   "cell_type": "code",
   "outputs": [],
   "source": [],
   "metadata": {
    "collapsed": false
   },
   "id": "36739b952904d8ea"
  }
 ],
 "metadata": {
  "kernelspec": {
   "display_name": "Python 3",
   "language": "python",
   "name": "python3"
  },
  "language_info": {
   "codemirror_mode": {
    "name": "ipython",
    "version": 2
   },
   "file_extension": ".py",
   "mimetype": "text/x-python",
   "name": "python",
   "nbconvert_exporter": "python",
   "pygments_lexer": "ipython2",
   "version": "2.7.6"
  }
 },
 "nbformat": 4,
 "nbformat_minor": 5
}
