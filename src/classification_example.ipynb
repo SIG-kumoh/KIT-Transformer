{
 "cells": [
  {
   "cell_type": "code",
   "execution_count": 37,
   "id": "initial_id",
   "metadata": {
    "collapsed": true,
    "ExecuteTime": {
     "end_time": "2024-02-19T06:43:59.220477100Z",
     "start_time": "2024-02-19T06:43:59.207295300Z"
    }
   },
   "outputs": [],
   "source": [
    "import tensorflow as tf\n",
    "from modules.encoder import Encoder"
   ]
  },
  {
   "cell_type": "code",
   "execution_count": 39,
   "outputs": [
    {
     "name": "stdout",
     "output_type": "stream",
     "text": [
      "학습 리뷰 개수 : 25000\n",
      "검증 리뷰 개수 : 25000\n"
     ]
    }
   ],
   "source": [
    "vocab_size = 20000\n",
    "max_len = 200\n",
    "\n",
    "(x_train, y_train), (x_test, y_test) = tf.keras.datasets.imdb.load_data(num_words=vocab_size)\n",
    "print(f'학습 리뷰 개수 : {len(x_train)}')\n",
    "print(f'검증 리뷰 개수 : {len(x_test)}')"
   ],
   "metadata": {
    "collapsed": false,
    "ExecuteTime": {
     "end_time": "2024-02-19T06:44:28.127853Z",
     "start_time": "2024-02-19T06:44:24.726860200Z"
    }
   },
   "id": "b7862e969cf59217"
  },
  {
   "cell_type": "code",
   "execution_count": 40,
   "outputs": [],
   "source": [
    "x_train = tf.keras.preprocessing.sequence.pad_sequences(x_train, maxlen=max_len)\n",
    "x_test = tf.keras.preprocessing.sequence.pad_sequences(x_test, maxlen=max_len)"
   ],
   "metadata": {
    "collapsed": false,
    "ExecuteTime": {
     "end_time": "2024-02-19T06:45:07.031128500Z",
     "start_time": "2024-02-19T06:45:06.430420700Z"
    }
   },
   "id": "c746799d3e1df80a"
  },
  {
   "cell_type": "code",
   "execution_count": null,
   "outputs": [],
   "source": [
    "from tensorflow.keras.models import Sequential\n",
    "from tensorflow.keras.layers import Dense, SimpleRNN, Embedding"
   ],
   "metadata": {
    "collapsed": false
   },
   "id": "c6ad1fbae34f2dea"
  },
  {
   "cell_type": "code",
   "execution_count": 41,
   "outputs": [],
   "source": [
    "embedding_dim = 32\n",
    "hidden_units = 32\n",
    "\n",
    "model = Sequential()\n",
    "model.add(Embedding(vocab_size, embedding_dim))\n",
    "model.add(SimpleRNN(hidden_units))\n",
    "model.add(Dense(1, activation='sigmoid'))\n",
    "\n",
    "model.compile(optimizer='rmsprop', loss='binary_crossentropy', metrics=['acc'])"
   ],
   "metadata": {
    "collapsed": false,
    "ExecuteTime": {
     "end_time": "2024-02-19T06:52:43.643093600Z",
     "start_time": "2024-02-19T06:52:43.441575300Z"
    }
   },
   "id": "9a86c505417e938e"
  },
  {
   "cell_type": "code",
   "execution_count": 43,
   "outputs": [
    {
     "name": "stdout",
     "output_type": "stream",
     "text": [
      "Epoch 1/5\n",
      "313/313 [==============================] - 10s 32ms/step - loss: 0.4190 - acc: 0.8161 - val_loss: 0.3925 - val_acc: 0.8320\n",
      "Epoch 2/5\n",
      "313/313 [==============================] - 9s 30ms/step - loss: 0.2938 - acc: 0.8809 - val_loss: 0.3916 - val_acc: 0.8246\n",
      "Epoch 3/5\n",
      "313/313 [==============================] - 14s 44ms/step - loss: 0.2089 - acc: 0.9186 - val_loss: 0.4261 - val_acc: 0.8364\n",
      "Epoch 4/5\n",
      "313/313 [==============================] - 22s 70ms/step - loss: 0.1373 - acc: 0.9517 - val_loss: 0.4297 - val_acc: 0.8422\n",
      "Epoch 5/5\n",
      "313/313 [==============================] - 21s 66ms/step - loss: 0.0787 - acc: 0.9742 - val_loss: 0.4767 - val_acc: 0.8428\n"
     ]
    }
   ],
   "source": [
    "history = model.fit(x_train, y_train, epochs=5, batch_size=64, validation_split=0.2)"
   ],
   "metadata": {
    "collapsed": false,
    "ExecuteTime": {
     "end_time": "2024-02-19T06:54:36.083553400Z",
     "start_time": "2024-02-19T06:53:20.187402300Z"
    }
   },
   "id": "32cd8494192c274a"
  },
  {
   "cell_type": "code",
   "execution_count": 44,
   "outputs": [
    {
     "name": "stdout",
     "output_type": "stream",
     "text": [
      "782/782 [==============================] - 10s 13ms/step - loss: 0.5110 - acc: 0.8336\n",
      "0.8335999846458435\n"
     ]
    }
   ],
   "source": [
    "print(model.evaluate(x_test, y_test)[1])"
   ],
   "metadata": {
    "collapsed": false,
    "ExecuteTime": {
     "end_time": "2024-02-19T06:54:57.471330500Z",
     "start_time": "2024-02-19T06:54:47.141885200Z"
    }
   },
   "id": "fb83312be11b0538"
  },
  {
   "cell_type": "code",
   "execution_count": null,
   "outputs": [],
   "source": [],
   "metadata": {
    "collapsed": false
   },
   "id": "68ffcdb9d7165174"
  }
 ],
 "metadata": {
  "kernelspec": {
   "display_name": "Python 3",
   "language": "python",
   "name": "python3"
  },
  "language_info": {
   "codemirror_mode": {
    "name": "ipython",
    "version": 2
   },
   "file_extension": ".py",
   "mimetype": "text/x-python",
   "name": "python",
   "nbconvert_exporter": "python",
   "pygments_lexer": "ipython2",
   "version": "2.7.6"
  }
 },
 "nbformat": 4,
 "nbformat_minor": 5
}
