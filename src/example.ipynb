{
 "cells": [
  {
   "cell_type": "code",
   "execution_count": 1,
   "id": "initial_id",
   "metadata": {
    "collapsed": true,
    "ExecuteTime": {
     "end_time": "2024-01-26T04:34:58.617442100Z",
     "start_time": "2024-01-26T04:34:48.370626500Z"
    }
   },
   "outputs": [
    {
     "name": "stdout",
     "output_type": "stream",
     "text": [
      "WARNING:tensorflow:From C:\\Users\\Han SeongMin\\PycharmProjects\\KIT-Transformer\\venv\\lib\\site-packages\\keras\\src\\losses.py:2976: The name tf.losses.sparse_softmax_cross_entropy is deprecated. Please use tf.compat.v1.losses.sparse_softmax_cross_entropy instead.\n"
     ]
    }
   ],
   "source": [
    "from transformer import Transformer"
   ]
  },
  {
   "cell_type": "code",
   "execution_count": 2,
   "outputs": [
    {
     "name": "stdout",
     "output_type": "stream",
     "text": [
      "WARNING:tensorflow:From C:\\Users\\Han SeongMin\\PycharmProjects\\KIT-Transformer\\venv\\lib\\site-packages\\keras\\src\\backend.py:873: The name tf.get_default_graph is deprecated. Please use tf.compat.v1.get_default_graph instead.\n"
     ]
    }
   ],
   "source": [
    "transformer = Transformer(vocab_size=9000,\n",
    "                          d_model=128,\n",
    "                          num_layers=4,\n",
    "                          num_heads=4,\n",
    "                          d_ff=512,\n",
    "                          dropout=0.3)"
   ],
   "metadata": {
    "collapsed": false,
    "ExecuteTime": {
     "end_time": "2024-01-26T04:35:04.752683100Z",
     "start_time": "2024-01-26T04:35:04.457565900Z"
    }
   },
   "id": "e5da27620b019e43"
  },
  {
   "cell_type": "markdown",
   "source": [
    "모델 Plot\n",
    "인풋 모양은 (2(인코더 입력, 디코더 입력), 배치 사이, d_model)을 의미"
   ],
   "metadata": {
    "collapsed": false
   },
   "id": "31b5e75a08828b5e"
  },
  {
   "cell_type": "code",
   "execution_count": 3,
   "outputs": [
    {
     "name": "stdout",
     "output_type": "stream",
     "text": [
      "WARNING:tensorflow:From C:\\Users\\Han SeongMin\\PycharmProjects\\KIT-Transformer\\venv\\lib\\site-packages\\keras\\src\\engine\\base_layer_utils.py:189: The name tf.placeholder is deprecated. Please use tf.compat.v1.placeholder instead.\n"
     ]
    }
   ],
   "source": [
    "transformer.build(input_shape=(2, 1, 9000))"
   ],
   "metadata": {
    "collapsed": false,
    "ExecuteTime": {
     "end_time": "2024-01-26T04:35:18.080649900Z",
     "start_time": "2024-01-26T04:35:11.895234Z"
    }
   },
   "id": "9da52058557adacf"
  },
  {
   "cell_type": "code",
   "execution_count": null,
   "outputs": [],
   "source": [],
   "metadata": {
    "collapsed": false
   },
   "id": "83f963a7f2de3c71"
  }
 ],
 "metadata": {
  "kernelspec": {
   "display_name": "Python 3",
   "language": "python",
   "name": "python3"
  },
  "language_info": {
   "codemirror_mode": {
    "name": "ipython",
    "version": 2
   },
   "file_extension": ".py",
   "mimetype": "text/x-python",
   "name": "python",
   "nbconvert_exporter": "python",
   "pygments_lexer": "ipython2",
   "version": "2.7.6"
  }
 },
 "nbformat": 4,
 "nbformat_minor": 5
}
