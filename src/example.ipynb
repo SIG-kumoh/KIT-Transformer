{
 "cells": [
  {
   "cell_type": "code",
   "execution_count": 17,
   "id": "initial_id",
   "metadata": {
    "collapsed": true,
    "ExecuteTime": {
     "end_time": "2024-01-27T10:41:33.243536200Z",
     "start_time": "2024-01-27T10:41:33.218732Z"
    }
   },
   "outputs": [],
   "source": [
    "import pandas as pd\n",
    "import numpy as np\n",
    "import matplotlib.pyplot as plt\n",
    "import re\n",
    "import urllib.request\n",
    "import time\n",
    "import tensorflow_datasets as tfds\n",
    "import tensorflow as tf\n",
    "from transformer import Transformer"
   ]
  },
  {
   "cell_type": "code",
   "execution_count": 18,
   "outputs": [],
   "source": [
    "transformer = Transformer(vocab_size=9000,\n",
    "                          d_model=128,\n",
    "                          num_layers=4,\n",
    "                          num_heads=4,\n",
    "                          d_ff=512,\n",
    "                          dropout=0.3)"
   ],
   "metadata": {
    "collapsed": false,
    "ExecuteTime": {
     "end_time": "2024-01-27T10:41:33.284727100Z",
     "start_time": "2024-01-27T10:41:33.249294400Z"
    }
   },
   "id": "e5da27620b019e43"
  },
  {
   "cell_type": "markdown",
   "source": [
    "[모델 빌드]\n",
    "인풋 모양은 (2(인코더 입력, 디코더 입력), 배치 사이, d_model)을 의미"
   ],
   "metadata": {
    "collapsed": false
   },
   "id": "31b5e75a08828b5e"
  },
  {
   "cell_type": "code",
   "execution_count": 19,
   "outputs": [],
   "source": [
    "transformer.build(input_shape=(2, 1, 9000))"
   ],
   "metadata": {
    "collapsed": false,
    "ExecuteTime": {
     "end_time": "2024-01-27T10:41:42.437992Z",
     "start_time": "2024-01-27T10:41:33.283642800Z"
    }
   },
   "id": "9da52058557adacf"
  },
  {
   "cell_type": "markdown",
   "source": [
    "[손실 함수 정의]\n",
    "예제는 다중 클래스 분류 문제. 이때 레이블이 정수 형태이므로 손실 함수는 SparseCategoricalCrossentropy 사용"
   ],
   "metadata": {
    "collapsed": false
   },
   "id": "576a91a72ec088d6"
  },
  {
   "cell_type": "code",
   "execution_count": 20,
   "outputs": [],
   "source": [
    "def loss_function(ans, pred):\n",
    "    \"\"\"\n",
    "    다중 클래스 분류 문제를 위한 손실 함수 정의\n",
    "    \n",
    "    :param ans: 해당 데이터의 실제 정답\n",
    "    :param pred: 모델이 생성해낸 예측 레이블\n",
    "    :return: 손실값\n",
    "    \"\"\"\n",
    "    loss = tf.keras.losses.SparseCategoricalCrossentropy(from_logits=True, reduction='none')(ans, pred)\n",
    "    mask = tf.cast(tf.not_equal(ans, 0), tf.float32)\n",
    "    loss = tf.multiply(loss, mask)\n",
    "    \n",
    "    return tf.reduce_mean(loss)"
   ],
   "metadata": {
    "collapsed": false,
    "ExecuteTime": {
     "end_time": "2024-01-27T10:41:42.455443400Z",
     "start_time": "2024-01-27T10:41:42.442023500Z"
    }
   },
   "id": "83f963a7f2de3c71"
  },
  {
   "cell_type": "markdown",
   "source": [
    "[데이터 로드]\n",
    "챗봇 데이터를 로드\n",
    "학습 기반 토크나이저 사용을 위해 구두점 처리"
   ],
   "metadata": {
    "collapsed": false
   },
   "id": "2feef9c408aadea0"
  },
  {
   "cell_type": "code",
   "execution_count": 21,
   "outputs": [
    {
     "data": {
      "text/plain": "                 Q            A  label\n0           12시 땡!   하루가 또 가네요.      0\n1      1지망 학교 떨어졌어    위로해 드립니다.      0\n2     3박4일 놀러가고 싶다  여행은 언제나 좋죠.      0\n3  3박4일 정도 놀러가고 싶다  여행은 언제나 좋죠.      0\n4          PPL 심하네   눈살이 찌푸려지죠.      0",
      "text/html": "<div>\n<style scoped>\n    .dataframe tbody tr th:only-of-type {\n        vertical-align: middle;\n    }\n\n    .dataframe tbody tr th {\n        vertical-align: top;\n    }\n\n    .dataframe thead th {\n        text-align: right;\n    }\n</style>\n<table border=\"1\" class=\"dataframe\">\n  <thead>\n    <tr style=\"text-align: right;\">\n      <th></th>\n      <th>Q</th>\n      <th>A</th>\n      <th>label</th>\n    </tr>\n  </thead>\n  <tbody>\n    <tr>\n      <th>0</th>\n      <td>12시 땡!</td>\n      <td>하루가 또 가네요.</td>\n      <td>0</td>\n    </tr>\n    <tr>\n      <th>1</th>\n      <td>1지망 학교 떨어졌어</td>\n      <td>위로해 드립니다.</td>\n      <td>0</td>\n    </tr>\n    <tr>\n      <th>2</th>\n      <td>3박4일 놀러가고 싶다</td>\n      <td>여행은 언제나 좋죠.</td>\n      <td>0</td>\n    </tr>\n    <tr>\n      <th>3</th>\n      <td>3박4일 정도 놀러가고 싶다</td>\n      <td>여행은 언제나 좋죠.</td>\n      <td>0</td>\n    </tr>\n    <tr>\n      <th>4</th>\n      <td>PPL 심하네</td>\n      <td>눈살이 찌푸려지죠.</td>\n      <td>0</td>\n    </tr>\n  </tbody>\n</table>\n</div>"
     },
     "execution_count": 21,
     "metadata": {},
     "output_type": "execute_result"
    }
   ],
   "source": [
    "urllib.request.urlretrieve(\"https://raw.githubusercontent.com/songys/Chatbot_data/master/ChatbotData.csv\", filename=\"ChatBotData.csv\")\n",
    "train_data = pd.read_csv('CHatBotData.csv')\n",
    "train_data.head()"
   ],
   "metadata": {
    "collapsed": false,
    "ExecuteTime": {
     "end_time": "2024-01-27T10:41:42.672391800Z",
     "start_time": "2024-01-27T10:41:42.456462100Z"
    }
   },
   "id": "1650b7db4acef3b9"
  },
  {
   "cell_type": "code",
   "execution_count": 22,
   "outputs": [
    {
     "name": "stdout",
     "output_type": "stream",
     "text": [
      "샘플의 개수 : 11823\n"
     ]
    }
   ],
   "source": [
    "print(f'샘플의 개수 : {len(train_data)}')"
   ],
   "metadata": {
    "collapsed": false,
    "ExecuteTime": {
     "end_time": "2024-01-27T10:41:42.711526500Z",
     "start_time": "2024-01-27T10:41:42.676399600Z"
    }
   },
   "id": "b1b7ffd6185f0495"
  },
  {
   "cell_type": "code",
   "execution_count": 23,
   "outputs": [
    {
     "name": "stdout",
     "output_type": "stream",
     "text": [
      "Q        0\n",
      "A        0\n",
      "label    0\n",
      "dtype: int64\n"
     ]
    }
   ],
   "source": [
    "print(train_data.isnull().sum())"
   ],
   "metadata": {
    "collapsed": false,
    "ExecuteTime": {
     "end_time": "2024-01-27T10:41:42.743779200Z",
     "start_time": "2024-01-27T10:41:42.689940900Z"
    }
   },
   "id": "fab3de6148d2aba6"
  },
  {
   "cell_type": "code",
   "execution_count": 24,
   "outputs": [],
   "source": [
    "# 구두점 제거 대신 띄어쓰기를 추가하여 다른 문자와 구분\n",
    "# 정규식 사용하여 처리\n",
    "questions = []\n",
    "for sentence in train_data['Q']:\n",
    "    sentence = re.sub(r\"([?.!,])\", r\" \\1 \", sentence)\n",
    "    sentence = sentence.strip()\n",
    "    questions.append(sentence)\n",
    "    \n",
    "answers = []\n",
    "for sentence in train_data['A']:\n",
    "    sentence = re.sub(r\"([?.!,])\", r\" \\1 \", sentence)\n",
    "    sentence = sentence.strip()\n",
    "    answers.append(sentence)"
   ],
   "metadata": {
    "collapsed": false,
    "ExecuteTime": {
     "end_time": "2024-01-27T10:41:42.847420700Z",
     "start_time": "2024-01-27T10:41:42.706532400Z"
    }
   },
   "id": "5e569086f0191990"
  },
  {
   "cell_type": "code",
   "execution_count": 25,
   "outputs": [
    {
     "name": "stdout",
     "output_type": "stream",
     "text": [
      "['12시 땡 !', '1지망 학교 떨어졌어', '3박4일 놀러가고 싶다', '3박4일 정도 놀러가고 싶다', 'PPL 심하네']\n",
      "['하루가 또 가네요 .', '위로해 드립니다 .', '여행은 언제나 좋죠 .', '여행은 언제나 좋죠 .', '눈살이 찌푸려지죠 .']\n"
     ]
    }
   ],
   "source": [
    "print(questions[:5])\n",
    "print(answers[:5])"
   ],
   "metadata": {
    "collapsed": false,
    "ExecuteTime": {
     "end_time": "2024-01-27T10:41:42.849422200Z",
     "start_time": "2024-01-27T10:41:42.797407300Z"
    }
   },
   "id": "a6d84f7f4a7d5b09"
  },
  {
   "cell_type": "markdown",
   "source": [
    "[단어 집합 생성]\n",
    "서브워드 텍스트 인코더를 사용하여 서브워드로 구성된 단어 집합 생성"
   ],
   "metadata": {
    "collapsed": false
   },
   "id": "442eeffca1a4056d"
  },
  {
   "cell_type": "code",
   "execution_count": 26,
   "outputs": [],
   "source": [
    "tokenizer = tfds.deprecated.text.SubwordTextEncoder.build_from_corpus(questions + answers, target_vocab_size=2**13)"
   ],
   "metadata": {
    "collapsed": false,
    "ExecuteTime": {
     "end_time": "2024-01-27T10:42:17.226972200Z",
     "start_time": "2024-01-27T10:41:42.816496600Z"
    }
   },
   "id": "7dab157794c60ab"
  },
  {
   "cell_type": "code",
   "execution_count": 27,
   "outputs": [],
   "source": [
    "START_TOKEN, END_TOKEN = [tokenizer.vocab_size], [tokenizer.vocab_size + 1]\n",
    "VOCAB_SIZE = tokenizer.vocab_size + 2"
   ],
   "metadata": {
    "collapsed": false,
    "ExecuteTime": {
     "end_time": "2024-01-27T10:42:17.272732400Z",
     "start_time": "2024-01-27T10:42:17.226972200Z"
    }
   },
   "id": "dc0b7efa68a0491b"
  },
  {
   "cell_type": "code",
   "execution_count": 28,
   "outputs": [
    {
     "name": "stdout",
     "output_type": "stream",
     "text": [
      "START_TOKEN : [8178]\n",
      "END_TOKEN : [8179]\n",
      "VOCAB_SIZE : 8180\n"
     ]
    }
   ],
   "source": [
    "print(f'START_TOKEN : {START_TOKEN}')\n",
    "print(f'END_TOKEN : {END_TOKEN}')\n",
    "print(f'VOCAB_SIZE : {VOCAB_SIZE}')"
   ],
   "metadata": {
    "collapsed": false,
    "ExecuteTime": {
     "end_time": "2024-01-27T10:42:17.374042200Z",
     "start_time": "2024-01-27T10:42:17.264618500Z"
    }
   },
   "id": "27d2e0326f2df7a6"
  },
  {
   "cell_type": "markdown",
   "source": [
    "[정수 인코딩과 패딩]\n",
    "토크나이저의 .encode()를 사용하여 정수 인코딩"
   ],
   "metadata": {
    "collapsed": false
   },
   "id": "ccdcb09aadcdc87b"
  },
  {
   "cell_type": "code",
   "execution_count": 29,
   "outputs": [
    {
     "name": "stdout",
     "output_type": "stream",
     "text": [
      "원본 문장 : 가스비 비싼데 감기 걸리겠어\n",
      "encode 후 : [5766, 611, 3509, 141, 685, 3747, 849]\n",
      "decode 후 : 가스비 비싼데 감기 걸리겠어\n"
     ]
    }
   ],
   "source": [
    "sample_string = questions[20]\n",
    "tokenized_string = tokenizer.encode(sample_string)\n",
    "print(f'원본 문장 : {sample_string}')\n",
    "print(f'encode 후 : {tokenized_string}')\n",
    "print(f'decode 후 : {tokenizer.decode(tokenized_string)}')"
   ],
   "metadata": {
    "collapsed": false,
    "ExecuteTime": {
     "end_time": "2024-01-27T10:42:17.453394200Z",
     "start_time": "2024-01-27T10:42:17.366588600Z"
    }
   },
   "id": "82d3a75bc09c8c10"
  },
  {
   "cell_type": "code",
   "execution_count": 30,
   "outputs": [
    {
     "name": "stdout",
     "output_type": "stream",
     "text": [
      "5766 ----> 가스\n",
      "611 ----> 비 \n",
      "3509 ----> 비싼\n",
      "141 ----> 데 \n",
      "685 ----> 감기 \n",
      "3747 ----> 걸리\n",
      "849 ----> 겠어\n"
     ]
    }
   ],
   "source": [
    "for token in tokenized_string:\n",
    "    print(f'{token} ----> {tokenizer.decode([token])}')"
   ],
   "metadata": {
    "collapsed": false,
    "ExecuteTime": {
     "end_time": "2024-01-27T10:42:17.456031100Z",
     "start_time": "2024-01-27T10:42:17.399379500Z"
    }
   },
   "id": "ddb2af9dbfb700c8"
  },
  {
   "cell_type": "code",
   "execution_count": 31,
   "outputs": [],
   "source": [
    "MAX_LENGTH = 40\n",
    "\n",
    "def encode_and_padding(inputs, outputs):\n",
    "    \"\"\"\n",
    "    1. 토크나이저로 인코딩\n",
    "    2. START_TOKEN, END_TOKEN 추가\n",
    "    3. 패딩 수행\n",
    "    \n",
    "    :param inputs: 데이터 셋의 입력\n",
    "    :param outputs: 데이터 셋의 출력\n",
    "    :return: 인코딩된 입력과 출력 리스트\n",
    "    \"\"\"\n",
    "    encoded_inputs, encoded_outputs = [], []\n",
    "    \n",
    "    for input_sentence, output_sentence in zip(inputs, outputs):\n",
    "        encoded_inputs.append(START_TOKEN + tokenizer.encode(input_sentence) + END_TOKEN)\n",
    "        encoded_outputs.append(START_TOKEN + tokenizer.encode(output_sentence) + END_TOKEN)\n",
    "        \n",
    "    encoded_inputs = tf.keras.preprocessing.sequence.pad_sequences(encoded_inputs, maxlen=MAX_LENGTH, padding='post')\n",
    "    encoded_outputs = tf.keras.preprocessing.sequence.pad_sequences(encoded_outputs, maxlen=MAX_LENGTH, padding='post')\n",
    "    \n",
    "    return encoded_inputs, encoded_outputs"
   ],
   "metadata": {
    "collapsed": false,
    "ExecuteTime": {
     "end_time": "2024-01-27T10:42:17.519088Z",
     "start_time": "2024-01-27T10:42:17.414564600Z"
    }
   },
   "id": "b7d4aed515b2df6d"
  },
  {
   "cell_type": "code",
   "execution_count": 32,
   "outputs": [
    {
     "name": "stdout",
     "output_type": "stream",
     "text": [
      "질문 데이터의 크기 : (11823, 40)\n",
      "답변 데이터의 크기 : (11823, 40)\n",
      "0번 샘플 질문 데이터 : [8178 7915 4207 3060   41 8179    0    0    0    0    0    0    0    0\n",
      "    0    0    0    0    0    0    0    0    0    0    0    0    0    0\n",
      "    0    0    0    0    0    0    0    0    0    0    0    0]\n",
      "0번 샘플 답변 데이터 : [8178 3844   74 7894    1 8179    0    0    0    0    0    0    0    0\n",
      "    0    0    0    0    0    0    0    0    0    0    0    0    0    0\n",
      "    0    0    0    0    0    0    0    0    0    0    0    0]\n"
     ]
    }
   ],
   "source": [
    "encoded_questions, encoded_answers = encode_and_padding(questions, answers)\n",
    "\n",
    "print(f'질문 데이터의 크기 : {encoded_questions.shape}')\n",
    "print(f'답변 데이터의 크기 : {encoded_answers.shape}')\n",
    "\n",
    "print(f'0번 샘플 질문 데이터 : {encoded_questions[0]}')\n",
    "print(f'0번 샘플 답변 데이터 : {encoded_answers[0]}')"
   ],
   "metadata": {
    "collapsed": false,
    "ExecuteTime": {
     "end_time": "2024-01-27T10:42:19.361289500Z",
     "start_time": "2024-01-27T10:42:17.449244700Z"
    }
   },
   "id": "1503d6f3e567810a"
  },
  {
   "cell_type": "markdown",
   "source": [
    "[인코더와 디코더의 입력 및 레이블 만들기]\n",
    "tf.data.Dataset을 사용하여 데이터를 배치 단위로 불러올 수 있다."
   ],
   "metadata": {
    "collapsed": false
   },
   "id": "27e758ba130ff71b"
  },
  {
   "cell_type": "code",
   "execution_count": 35,
   "outputs": [],
   "source": [
    "BATCH_SIZE = 64\n",
    "BUFFER_SIZE = 20000\n",
    "\n",
    "dataset = tf.data.Dataset.from_tensor_slices(({\n",
    "    'inputs': encoded_questions,\n",
    "    'dec_inputs': encoded_answers[:, :-1]\n",
    "},\n",
    "{\n",
    "    'outputs': encoded_answers[:, 1:]\n",
    "}))\n",
    "\n",
    "dataset = dataset.cache()\n",
    "dataset = dataset.shuffle(BUFFER_SIZE)\n",
    "dataset = dataset.batch(BATCH_SIZE)\n",
    "dataset = dataset.prefetch(tf.data.experimental.AUTOTUNE)"
   ],
   "metadata": {
    "collapsed": false,
    "ExecuteTime": {
     "end_time": "2024-01-27T11:29:24.901173700Z",
     "start_time": "2024-01-27T11:29:24.856274700Z"
    }
   },
   "id": "2e30d75efe9f2f09"
  },
  {
   "cell_type": "code",
   "execution_count": null,
   "outputs": [],
   "source": [],
   "metadata": {
    "collapsed": false
   },
   "id": "65cfdf93573fa88b"
  }
 ],
 "metadata": {
  "kernelspec": {
   "display_name": "Python 3",
   "language": "python",
   "name": "python3"
  },
  "language_info": {
   "codemirror_mode": {
    "name": "ipython",
    "version": 2
   },
   "file_extension": ".py",
   "mimetype": "text/x-python",
   "name": "python",
   "nbconvert_exporter": "python",
   "pygments_lexer": "ipython2",
   "version": "2.7.6"
  }
 },
 "nbformat": 4,
 "nbformat_minor": 5
}
